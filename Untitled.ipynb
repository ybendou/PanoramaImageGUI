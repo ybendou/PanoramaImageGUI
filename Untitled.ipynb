{
 "cells": [
  {
   "cell_type": "code",
   "execution_count": 2,
   "metadata": {},
   "outputs": [
    {
     "data": {
      "text/plain": [
       "<matplotlib.image.AxesImage at 0x1f0473652b0>"
      ]
     },
     "execution_count": 2,
     "metadata": {},
     "output_type": "execute_result"
    }
   ],
   "source": [
    "import sys\n",
    "\n",
    "from PIL import Image, ImageDraw\n",
    "import matplotlib.pyplot as plt\n",
    "step_count = 10\n",
    "\n",
    "if len(sys.argv) == 2:\n",
    "    step_count = int(sys.argv[1])\n",
    "\n",
    "height = 600\n",
    "width = 600\n",
    "image = Image.new(mode='L', size=(height, width), color=255)\n",
    "\n",
    "# Draw some lines\n",
    "draw = ImageDraw.Draw(image)\n",
    "y_start = 0\n",
    "y_end = image.height\n",
    "step_size = int(image.width / step_count)\n",
    "\n",
    "for x in range(0, image.width, step_size):\n",
    "    line = ((x, y_start), (x, y_end))\n",
    "    draw.line(line, fill=128)\n",
    "\n",
    "x_start = 0\n",
    "x_end = image.width\n",
    "\n",
    "for y in range(0, image.height, step_size):\n",
    "    line = ((x_start, y), (x_end, y))\n",
    "    draw.line(line, fill=128)\n",
    "\n",
    "del draw\n",
    "\n",
    "plt.imshow(image)"
   ]
  },
  {
   "cell_type": "code",
   "execution_count": 3,
   "metadata": {},
   "outputs": [
    {
     "data": {
      "image/png": "[encoded data removed]",
      "text/plain": [
       "<PIL.Image.Image image mode=L size=600x600 at 0x1F045716A58>"
      ]
     },
     "execution_count": 3,
     "metadata": {},
     "output_type": "execute_result"
    }
   ],
   "source": [
    "image"
   ]
  },
  {
   "cell_type": "code",
   "execution_count": null,
   "metadata": {},
   "outputs": [],
   "source": []
  }
 ],
 "metadata": {
  "kernelspec": {
   "display_name": "Python 3",
   "language": "python",
   "name": "python3"
  },
  "language_info": {
   "codemirror_mode": {
    "name": "ipython",
    "version": 3
   },
   "file_extension": ".py",
   "mimetype": "text/x-python",
   "name": "python",
   "nbconvert_exporter": "python",
   "pygments_lexer": "ipython3",
   "version": "3.7.1"
  }
 },
 "nbformat": 4,
 "nbformat_minor": 2
}
